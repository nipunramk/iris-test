{
 "cells": [
  {
   "cell_type": "code",
   "execution_count": 55,
   "metadata": {
    "collapsed": false
   },
   "outputs": [],
   "source": [
    "import pandas as pd\n",
    "from pandas.tools.plotting import scatter_matrix\n",
    "import matplotlib.pyplot as plt\n",
    "from sklearn import model_selection\n",
    "from sklearn.metrics import classification_report\n",
    "from sklearn.metrics import confusion_matrix\n",
    "from sklearn.metrics import accuracy_score\n",
    "from sklearn.linear_model import LogisticRegression\n",
    "from sklearn.tree import DecisionTreeClassifier\n",
    "from sklearn.neighbors import KNeighborsClassifier\n",
    "from sklearn.discriminant_analysis import LinearDiscriminantAnalysis\n",
    "from sklearn.naive_bayes import GaussianNB\n",
    "from sklearn.svm import SVC\n",
    "from sklearn import preprocessing\n",
    "from sklearn.utils import shuffle"
   ]
  },
  {
   "cell_type": "code",
   "execution_count": 56,
   "metadata": {
    "collapsed": false
   },
   "outputs": [
    {
     "name": "stdout",
     "output_type": "stream",
     "text": [
      "     sepal-length  sepal-width  petal-length  petal-width  class\n",
      "129           7.2          3.0           5.8          1.6      2\n",
      "100           6.3          3.3           6.0          2.5      2\n",
      "49            5.0          3.3           1.4          0.2      0\n",
      "35            5.0          3.2           1.2          0.2      0\n",
      "117           7.7          3.8           6.7          2.2      2\n",
      "67            5.8          2.7           4.1          1.0      1\n",
      "61            5.9          3.0           4.2          1.5      1\n",
      "104           6.5          3.0           5.8          2.2      2\n",
      "142           5.8          2.7           5.1          1.9      2\n",
      "77            6.7          3.0           5.0          1.7      1\n",
      "11            4.8          3.4           1.6          0.2      0\n",
      "34            4.9          3.1           1.5          0.1      0\n",
      "103           6.3          2.9           5.6          1.8      2\n",
      "140           6.7          3.1           5.6          2.4      2\n",
      "118           7.7          2.6           6.9          2.3      2\n",
      "107           7.3          2.9           6.3          1.8      2\n",
      "102           7.1          3.0           5.9          2.1      2\n",
      "121           5.6          2.8           4.9          2.0      2\n",
      "125           7.2          3.2           6.0          1.8      2\n",
      "134           6.1          2.6           5.6          1.4      2\n",
      "36            5.5          3.5           1.3          0.2      0\n",
      "46            5.1          3.8           1.6          0.2      0\n",
      "41            4.5          2.3           1.3          0.3      0\n",
      "43            5.0          3.5           1.6          0.6      0\n",
      "109           7.2          3.6           6.1          2.5      2\n",
      "12            4.8          3.0           1.4          0.1      0\n",
      "80            5.5          2.4           3.8          1.1      1\n",
      "60            5.0          2.0           3.5          1.0      1\n",
      "72            6.3          2.5           4.9          1.5      1\n",
      "52            6.9          3.1           4.9          1.5      1\n",
      "15            5.7          4.4           1.5          0.4      0\n",
      "135           7.7          3.0           6.1          2.3      2\n",
      "4             5.0          3.6           1.4          0.2      0\n",
      "92            5.8          2.6           4.0          1.2      1\n",
      "105           7.6          3.0           6.6          2.1      2\n",
      "141           6.9          3.1           5.1          2.3      2\n",
      "44            5.1          3.8           1.9          0.4      0\n",
      "94            5.6          2.7           4.2          1.3      1\n",
      "95            5.7          3.0           4.2          1.2      1\n",
      "48            5.3          3.7           1.5          0.2      0\n",
      "21            5.1          3.7           1.5          0.4      0\n",
      "8             4.4          2.9           1.4          0.2      0\n",
      "124           6.7          3.3           5.7          2.1      2\n",
      "69            5.6          2.5           3.9          1.1      1\n",
      "10            5.4          3.7           1.5          0.2      0\n",
      "81            5.5          2.4           3.7          1.0      1\n",
      "106           4.9          2.5           4.5          1.7      2\n",
      "71            6.1          2.8           4.0          1.3      1\n",
      "70            5.9          3.2           4.8          1.8      1\n",
      "116           6.5          3.0           5.5          1.8      2\n",
      "90            5.5          2.6           4.4          1.2      1\n",
      "144           6.7          3.3           5.7          2.5      2\n",
      "63            6.1          2.9           4.7          1.4      1\n",
      "89            5.5          2.5           4.0          1.3      1\n",
      "40            5.0          3.5           1.3          0.3      0\n",
      "51            6.4          3.2           4.5          1.5      1\n",
      "149           5.9          3.0           5.1          1.8      2\n",
      "7             5.0          3.4           1.5          0.2      0\n",
      "128           6.4          2.8           5.6          2.1      2\n",
      "73            6.1          2.8           4.7          1.2      1\n",
      "74            6.4          2.9           4.3          1.3      1\n",
      "66            5.6          3.0           4.5          1.5      1\n",
      "91            6.1          3.0           4.6          1.4      1\n",
      "99            5.7          2.8           4.1          1.3      1\n",
      "143           6.8          3.2           5.9          2.3      2\n",
      "31            5.4          3.4           1.5          0.4      0\n",
      "2             4.7          3.2           1.3          0.2      0\n",
      "53            5.5          2.3           4.0          1.3      1\n",
      "58            6.6          2.9           4.6          1.3      1\n",
      "79            5.7          2.6           3.5          1.0      1\n",
      "82            5.8          2.7           3.9          1.2      1\n",
      "98            5.1          2.5           3.0          1.1      1\n",
      "86            6.7          3.1           4.7          1.5      1\n",
      "6             4.6          3.4           1.4          0.3      0\n",
      "83            6.0          2.7           5.1          1.6      1\n",
      "16            5.4          3.9           1.3          0.4      0\n",
      "18            5.7          3.8           1.7          0.3      0\n",
      "114           5.8          2.8           5.1          2.4      2\n",
      "146           6.3          2.5           5.0          1.9      2\n",
      "56            6.3          3.3           4.7          1.6      1\n",
      "30            4.8          3.1           1.6          0.2      0\n",
      "57            4.9          2.4           3.3          1.0      1\n",
      "23            5.1          3.3           1.7          0.5      0\n",
      "138           6.0          3.0           4.8          1.8      2\n",
      "25            5.0          3.0           1.6          0.2      0\n",
      "113           5.7          2.5           5.0          2.0      2\n",
      "64            5.6          2.9           3.6          1.3      1\n",
      "59            5.2          2.7           3.9          1.4      1\n",
      "148           6.2          3.4           5.4          2.3      2\n",
      "97            6.2          2.9           4.3          1.3      1\n",
      "93            5.0          2.3           3.3          1.0      1\n",
      "26            5.0          3.4           1.6          0.4      0\n",
      "122           7.7          2.8           6.7          2.0      2\n",
      "22            4.6          3.6           1.0          0.2      0\n",
      "87            6.3          2.3           4.4          1.3      1\n",
      "101           5.8          2.7           5.1          1.9      2\n",
      "39            5.1          3.4           1.5          0.2      0\n",
      "108           6.7          2.5           5.8          1.8      2\n",
      "75            6.6          3.0           4.4          1.4      1\n",
      "133           6.3          2.8           5.1          1.5      2\n",
      "13            4.3          3.0           1.1          0.1      0\n",
      "20            5.4          3.4           1.7          0.2      0\n",
      "1             4.9          3.0           1.4          0.2      0\n",
      "50            7.0          3.2           4.7          1.4      1\n",
      "115           6.4          3.2           5.3          2.3      2\n",
      "17            5.1          3.5           1.4          0.3      0\n",
      "147           6.5          3.0           5.2          2.0      2\n",
      "0             5.1          3.5           1.4          0.2      0\n",
      "120           6.9          3.2           5.7          2.3      2\n",
      "42            4.4          3.2           1.3          0.2      0\n",
      "29            4.7          3.2           1.6          0.2      0\n",
      "130           7.4          2.8           6.1          1.9      2\n",
      "136           6.3          3.4           5.6          2.4      2\n",
      "112           6.8          3.0           5.5          2.1      2\n",
      "111           6.4          2.7           5.3          1.9      2\n",
      "5             5.4          3.9           1.7          0.4      0\n",
      "65            6.7          3.1           4.4          1.4      1\n",
      "47            4.6          3.2           1.4          0.2      0\n",
      "139           6.9          3.1           5.4          2.1      2\n",
      "28            5.2          3.4           1.4          0.2      0\n",
      "3             4.6          3.1           1.5          0.2      0\n",
      "19            5.1          3.8           1.5          0.3      0\n",
      "76            6.8          2.8           4.8          1.4      1\n",
      "145           6.7          3.0           5.2          2.3      2\n",
      "33            5.5          4.2           1.4          0.2      0\n",
      "96            5.7          2.9           4.2          1.3      1\n",
      "78            6.0          2.9           4.5          1.5      1\n",
      "9             4.9          3.1           1.5          0.1      0\n",
      "132           6.4          2.8           5.6          2.2      2\n",
      "54            6.5          2.8           4.6          1.5      1\n",
      "62            6.0          2.2           4.0          1.0      1\n",
      "14            5.8          4.0           1.2          0.2      0\n",
      "55            5.7          2.8           4.5          1.3      1\n",
      "123           6.3          2.7           4.9          1.8      2\n",
      "45            4.8          3.0           1.4          0.3      0\n",
      "84            5.4          3.0           4.5          1.5      1\n",
      "131           7.9          3.8           6.4          2.0      2\n",
      "27            5.2          3.5           1.5          0.2      0\n",
      "37            4.9          3.1           1.5          0.1      0\n",
      "68            6.2          2.2           4.5          1.5      1\n",
      "85            6.0          3.4           4.5          1.6      1\n",
      "119           6.0          2.2           5.0          1.5      2\n",
      "38            4.4          3.0           1.3          0.2      0\n",
      "126           6.2          2.8           4.8          1.8      2\n",
      "137           6.4          3.1           5.5          1.8      2\n",
      "88            5.6          3.0           4.1          1.3      1\n",
      "24            4.8          3.4           1.9          0.2      0\n",
      "110           6.5          3.2           5.1          2.0      2\n",
      "32            5.2          4.1           1.5          0.1      0\n",
      "127           6.1          3.0           4.9          1.8      2\n"
     ]
    }
   ],
   "source": [
    "column_names = ['sepal-length', 'sepal-width', 'petal-length', 'petal-width', 'class']\n",
    "dataset = pd.read_csv('iris.csv', names = column_names)\n",
    "label_encoder = preprocessing.LabelEncoder()\n",
    "dataset['class'] = label_encoder.fit_transform(dataset['class'])\n",
    "dataset = shuffle(dataset)\n",
    "\n",
    "def print_full(x):\n",
    "    pd.set_option('display.max_rows', len(x))\n",
    "    print(x)\n",
    "    pd.reset_option('display.max_rows')\n",
    "\n",
    "print_full(dataset)"
   ]
  },
  {
   "cell_type": "code",
   "execution_count": 41,
   "metadata": {
    "collapsed": false
   },
   "outputs": [
    {
     "name": "stdout",
     "output_type": "stream",
     "text": [
      "       sepal-length  sepal-width  petal-length  petal-width       class\n",
      "count    150.000000   150.000000    150.000000   150.000000  150.000000\n",
      "mean       5.843333     3.054000      3.758667     1.198667    1.000000\n",
      "std        0.828066     0.433594      1.764420     0.763161    0.819232\n",
      "min        4.300000     2.000000      1.000000     0.100000    0.000000\n",
      "25%        5.100000     2.800000      1.600000     0.300000    0.000000\n",
      "50%        5.800000     3.000000      4.350000     1.300000    1.000000\n",
      "75%        6.400000     3.300000      5.100000     1.800000    2.000000\n",
      "max        7.900000     4.400000      6.900000     2.500000    2.000000\n"
     ]
    }
   ],
   "source": [
    "print(dataset.describe())"
   ]
  },
  {
   "cell_type": "code",
   "execution_count": 42,
   "metadata": {
    "collapsed": false
   },
   "outputs": [
    {
     "name": "stdout",
     "output_type": "stream",
     "text": [
      "class\n",
      "0    50\n",
      "1    50\n",
      "2    50\n",
      "dtype: int64\n"
     ]
    }
   ],
   "source": [
    "print(dataset.groupby('class').size())"
   ]
  },
  {
   "cell_type": "code",
   "execution_count": 43,
   "metadata": {
    "collapsed": false
   },
   "outputs": [
    {
     "data": {
      "image/png": "[encoded data removed]",
      "text/plain": [
       "<matplotlib.figure.Figure at 0x10ce5dac8>"
      ]
     },
     "metadata": {},
     "output_type": "display_data"
    }
   ],
   "source": [
    "dataset.hist()\n",
    "plt.show()"
   ]
  },
  {
   "cell_type": "code",
   "execution_count": 44,
   "metadata": {
    "collapsed": false
   },
   "outputs": [
    {
     "name": "stderr",
     "output_type": "stream",
     "text": [
      "/Library/Frameworks/Python.framework/Versions/3.6/lib/python3.6/site-packages/ipykernel/__main__.py:1: FutureWarning: 'pandas.tools.plotting.scatter_matrix' is deprecated, import 'pandas.plotting.scatter_matrix' instead.\n",
      "  if __name__ == '__main__':\n"
     ]
    },
    {
     "data": {
      "image/png": "[encoded data removed]",
      "text/plain": [
       "<matplotlib.figure.Figure at 0x10db9df60>"
      ]
     },
     "metadata": {},
     "output_type": "display_data"
    }
   ],
   "source": [
    "scatter_matrix(dataset)\n",
    "plt.show()"
   ]
  },
  {
   "cell_type": "code",
   "execution_count": 57,
   "metadata": {
    "collapsed": false
   },
   "outputs": [
    {
     "name": "stdout",
     "output_type": "stream",
     "text": [
      "[[ 7.2  3.   5.8  1.6]\n",
      " [ 6.3  3.3  6.   2.5]\n",
      " [ 5.   3.3  1.4  0.2]\n",
      " [ 5.   3.2  1.2  0.2]\n",
      " [ 7.7  3.8  6.7  2.2]\n",
      " [ 5.8  2.7  4.1  1. ]\n",
      " [ 5.9  3.   4.2  1.5]\n",
      " [ 6.5  3.   5.8  2.2]\n",
      " [ 5.8  2.7  5.1  1.9]\n",
      " [ 6.7  3.   5.   1.7]\n",
      " [ 4.8  3.4  1.6  0.2]\n",
      " [ 4.9  3.1  1.5  0.1]\n",
      " [ 6.3  2.9  5.6  1.8]\n",
      " [ 6.7  3.1  5.6  2.4]\n",
      " [ 7.7  2.6  6.9  2.3]\n",
      " [ 7.3  2.9  6.3  1.8]\n",
      " [ 7.1  3.   5.9  2.1]\n",
      " [ 5.6  2.8  4.9  2. ]\n",
      " [ 7.2  3.2  6.   1.8]\n",
      " [ 6.1  2.6  5.6  1.4]\n",
      " [ 5.5  3.5  1.3  0.2]\n",
      " [ 5.1  3.8  1.6  0.2]\n",
      " [ 4.5  2.3  1.3  0.3]\n",
      " [ 5.   3.5  1.6  0.6]\n",
      " [ 7.2  3.6  6.1  2.5]\n",
      " [ 4.8  3.   1.4  0.1]\n",
      " [ 5.5  2.4  3.8  1.1]\n",
      " [ 5.   2.   3.5  1. ]\n",
      " [ 6.3  2.5  4.9  1.5]\n",
      " [ 6.9  3.1  4.9  1.5]\n",
      " [ 5.7  4.4  1.5  0.4]\n",
      " [ 7.7  3.   6.1  2.3]\n",
      " [ 5.   3.6  1.4  0.2]\n",
      " [ 5.8  2.6  4.   1.2]\n",
      " [ 7.6  3.   6.6  2.1]\n",
      " [ 6.9  3.1  5.1  2.3]\n",
      " [ 5.1  3.8  1.9  0.4]\n",
      " [ 5.6  2.7  4.2  1.3]\n",
      " [ 5.7  3.   4.2  1.2]\n",
      " [ 5.3  3.7  1.5  0.2]\n",
      " [ 5.1  3.7  1.5  0.4]\n",
      " [ 4.4  2.9  1.4  0.2]\n",
      " [ 6.7  3.3  5.7  2.1]\n",
      " [ 5.6  2.5  3.9  1.1]\n",
      " [ 5.4  3.7  1.5  0.2]\n",
      " [ 5.5  2.4  3.7  1. ]\n",
      " [ 4.9  2.5  4.5  1.7]\n",
      " [ 6.1  2.8  4.   1.3]\n",
      " [ 5.9  3.2  4.8  1.8]\n",
      " [ 6.5  3.   5.5  1.8]\n",
      " [ 5.5  2.6  4.4  1.2]\n",
      " [ 6.7  3.3  5.7  2.5]\n",
      " [ 6.1  2.9  4.7  1.4]\n",
      " [ 5.5  2.5  4.   1.3]\n",
      " [ 5.   3.5  1.3  0.3]\n",
      " [ 6.4  3.2  4.5  1.5]\n",
      " [ 5.9  3.   5.1  1.8]\n",
      " [ 5.   3.4  1.5  0.2]\n",
      " [ 6.4  2.8  5.6  2.1]\n",
      " [ 6.1  2.8  4.7  1.2]\n",
      " [ 6.4  2.9  4.3  1.3]\n",
      " [ 5.6  3.   4.5  1.5]\n",
      " [ 6.1  3.   4.6  1.4]\n",
      " [ 5.7  2.8  4.1  1.3]\n",
      " [ 6.8  3.2  5.9  2.3]\n",
      " [ 5.4  3.4  1.5  0.4]\n",
      " [ 4.7  3.2  1.3  0.2]\n",
      " [ 5.5  2.3  4.   1.3]\n",
      " [ 6.6  2.9  4.6  1.3]\n",
      " [ 5.7  2.6  3.5  1. ]\n",
      " [ 5.8  2.7  3.9  1.2]\n",
      " [ 5.1  2.5  3.   1.1]\n",
      " [ 6.7  3.1  4.7  1.5]\n",
      " [ 4.6  3.4  1.4  0.3]\n",
      " [ 6.   2.7  5.1  1.6]\n",
      " [ 5.4  3.9  1.3  0.4]\n",
      " [ 5.7  3.8  1.7  0.3]\n",
      " [ 5.8  2.8  5.1  2.4]\n",
      " [ 6.3  2.5  5.   1.9]\n",
      " [ 6.3  3.3  4.7  1.6]\n",
      " [ 4.8  3.1  1.6  0.2]\n",
      " [ 4.9  2.4  3.3  1. ]\n",
      " [ 5.1  3.3  1.7  0.5]\n",
      " [ 6.   3.   4.8  1.8]\n",
      " [ 5.   3.   1.6  0.2]\n",
      " [ 5.7  2.5  5.   2. ]\n",
      " [ 5.6  2.9  3.6  1.3]\n",
      " [ 5.2  2.7  3.9  1.4]\n",
      " [ 6.2  3.4  5.4  2.3]\n",
      " [ 6.2  2.9  4.3  1.3]\n",
      " [ 5.   2.3  3.3  1. ]\n",
      " [ 5.   3.4  1.6  0.4]\n",
      " [ 7.7  2.8  6.7  2. ]\n",
      " [ 4.6  3.6  1.   0.2]\n",
      " [ 6.3  2.3  4.4  1.3]\n",
      " [ 5.8  2.7  5.1  1.9]\n",
      " [ 5.1  3.4  1.5  0.2]\n",
      " [ 6.7  2.5  5.8  1.8]\n",
      " [ 6.6  3.   4.4  1.4]\n",
      " [ 6.3  2.8  5.1  1.5]\n",
      " [ 4.3  3.   1.1  0.1]\n",
      " [ 5.4  3.4  1.7  0.2]\n",
      " [ 4.9  3.   1.4  0.2]\n",
      " [ 7.   3.2  4.7  1.4]\n",
      " [ 6.4  3.2  5.3  2.3]\n",
      " [ 5.1  3.5  1.4  0.3]\n",
      " [ 6.5  3.   5.2  2. ]\n",
      " [ 5.1  3.5  1.4  0.2]\n",
      " [ 6.9  3.2  5.7  2.3]\n",
      " [ 4.4  3.2  1.3  0.2]\n",
      " [ 4.7  3.2  1.6  0.2]\n",
      " [ 7.4  2.8  6.1  1.9]\n",
      " [ 6.3  3.4  5.6  2.4]\n",
      " [ 6.8  3.   5.5  2.1]\n",
      " [ 6.4  2.7  5.3  1.9]\n",
      " [ 5.4  3.9  1.7  0.4]\n",
      " [ 6.7  3.1  4.4  1.4]\n",
      " [ 4.6  3.2  1.4  0.2]\n",
      " [ 6.9  3.1  5.4  2.1]\n",
      " [ 5.2  3.4  1.4  0.2]\n",
      " [ 4.6  3.1  1.5  0.2]\n",
      " [ 5.1  3.8  1.5  0.3]\n",
      " [ 6.8  2.8  4.8  1.4]\n",
      " [ 6.7  3.   5.2  2.3]\n",
      " [ 5.5  4.2  1.4  0.2]\n",
      " [ 5.7  2.9  4.2  1.3]\n",
      " [ 6.   2.9  4.5  1.5]\n",
      " [ 4.9  3.1  1.5  0.1]\n",
      " [ 6.4  2.8  5.6  2.2]\n",
      " [ 6.5  2.8  4.6  1.5]\n",
      " [ 6.   2.2  4.   1. ]\n",
      " [ 5.8  4.   1.2  0.2]\n",
      " [ 5.7  2.8  4.5  1.3]\n",
      " [ 6.3  2.7  4.9  1.8]\n",
      " [ 4.8  3.   1.4  0.3]\n",
      " [ 5.4  3.   4.5  1.5]\n",
      " [ 7.9  3.8  6.4  2. ]\n",
      " [ 5.2  3.5  1.5  0.2]\n",
      " [ 4.9  3.1  1.5  0.1]\n",
      " [ 6.2  2.2  4.5  1.5]\n",
      " [ 6.   3.4  4.5  1.6]\n",
      " [ 6.   2.2  5.   1.5]\n",
      " [ 4.4  3.   1.3  0.2]\n",
      " [ 6.2  2.8  4.8  1.8]\n",
      " [ 6.4  3.1  5.5  1.8]\n",
      " [ 5.6  3.   4.1  1.3]\n",
      " [ 4.8  3.4  1.9  0.2]\n",
      " [ 6.5  3.2  5.1  2. ]\n",
      " [ 5.2  4.1  1.5  0.1]\n",
      " [ 6.1  3.   4.9  1.8]]\n",
      "[2 2 0 0 2 1 1 2 2 1 0 0 2 2 2 2 2 2 2 2 0 0 0 0 2 0 1 1 1 1 0 2 0 1 2 2 0\n",
      " 1 1 0 0 0 2 1 0 1 2 1 1 2 1 2 1 1 0 1 2 0 2 1 1 1 1 1 2 0 0 1 1 1 1 1 1 0\n",
      " 1 0 0 2 2 1 0 1 0 2 0 2 1 1 2 1 1 0 2 0 1 2 0 2 1 2 0 0 0 1 2 0 2 0 2 0 0\n",
      " 2 2 2 2 0 1 0 2 0 0 0 1 2 0 1 1 0 2 1 1 0 1 2 0 1 2 0 0 1 1 2 0 2 2 1 0 2\n",
      " 0 2]\n"
     ]
    }
   ],
   "source": [
    "X = dataset.values[:, 0:4]\n",
    "Y = dataset['class'].as_matrix()\n",
    "print(X)\n",
    "print(Y)"
   ]
  },
  {
   "cell_type": "code",
   "execution_count": 58,
   "metadata": {
    "collapsed": false
   },
   "outputs": [
    {
     "name": "stdout",
     "output_type": "stream",
     "text": [
      "(100, 4)\n",
      "(100,)\n",
      "(50, 4)\n",
      "(50,)\n"
     ]
    }
   ],
   "source": [
    "train_size = 100\n",
    "X_train = X[:train_size]\n",
    "Y_train = Y[:train_size]\n",
    "print(X_train.shape)\n",
    "print(Y_train.shape)\n",
    "X_test = X[train_size:]\n",
    "Y_test = Y[train_size:]\n",
    "print(X_test.shape)\n",
    "print(Y_test.shape)"
   ]
  },
  {
   "cell_type": "code",
   "execution_count": 59,
   "metadata": {
    "collapsed": false
   },
   "outputs": [
    {
     "name": "stdout",
     "output_type": "stream",
     "text": [
      "[0 0 0 1 2 0 2 0 2 0 0 2 2 2 2 0 1 0 2 0 0 0 1 2 0 1 1 0 2 1 1 0 1 2 0 2 2\n",
      " 0 0 1 1 2 0 2 2 1 0 2 0 2]\n",
      "LR\n",
      "0.98\n",
      "[0 0 0 1 2 0 2 0 2 0 0 2 2 2 2 0 1 0 2 0 0 0 1 2 0 1 1 0 2 1 1 0 1 2 0 1 2\n",
      " 0 0 1 1 2 0 2 2 1 0 2 0 2]\n",
      "LDA\n",
      "1.0\n",
      "[0 0 0 1 2 0 2 0 2 0 0 2 2 2 2 0 1 0 2 0 0 0 1 2 0 1 1 0 2 1 1 0 1 2 0 1 2\n",
      " 0 0 1 1 2 0 2 2 1 0 2 0 2]\n",
      "KNN\n",
      "1.0\n",
      "[0 0 0 1 2 0 2 0 2 0 0 2 2 2 2 0 1 0 2 0 0 0 1 2 0 1 1 0 2 1 1 0 1 2 0 1 2\n",
      " 0 0 1 1 1 0 2 2 1 0 2 0 2]\n",
      "CART\n",
      "0.98\n",
      "[0 0 0 1 2 0 2 0 2 0 0 2 2 2 2 0 1 0 2 0 0 0 1 2 0 1 1 0 2 1 1 0 1 2 0 1 2\n",
      " 0 0 1 1 1 0 2 2 1 0 2 0 2]\n",
      "NB\n",
      "0.98\n",
      "[0 0 0 1 2 0 2 0 2 0 0 2 2 2 2 0 1 0 2 0 0 0 1 2 0 1 1 0 2 1 1 0 1 2 0 1 2\n",
      " 0 0 1 1 2 0 2 2 1 0 2 0 2]\n",
      "SVM\n",
      "1.0\n"
     ]
    }
   ],
   "source": [
    "models = []\n",
    "models.append(('LR', LogisticRegression()))\n",
    "models.append(('LDA', LinearDiscriminantAnalysis()))\n",
    "models.append(('KNN', KNeighborsClassifier()))\n",
    "models.append(('CART', DecisionTreeClassifier()))\n",
    "models.append(('NB', GaussianNB()))\n",
    "models.append(('SVM', SVC()))\n",
    "for name, model in models:\n",
    "    model.fit(X_train, Y_train)\n",
    "    predictions = model.predict(X_test)\n",
    "    print(predictions)\n",
    "    print(name)\n",
    "    print(accuracy_score(predictions, Y_test))"
   ]
  },
  {
   "cell_type": "code",
   "execution_count": null,
   "metadata": {
    "collapsed": true
   },
   "outputs": [],
   "source": []
  }
 ],
 "metadata": {
  "kernelspec": {
   "display_name": "Python 3",
   "language": "python",
   "name": "python3"
  },
  "language_info": {
   "codemirror_mode": {
    "name": "ipython",
    "version": 3
   },
   "file_extension": ".py",
   "mimetype": "text/x-python",
   "name": "python",
   "nbconvert_exporter": "python",
   "pygments_lexer": "ipython3",
   "version": "3.6.0"
  }
 },
 "nbformat": 4,
 "nbformat_minor": 2
}
